{
 "cells": [
  {
   "cell_type": "code",
   "execution_count": 1,
   "metadata": {},
   "outputs": [],
   "source": [
    "import tensorflow as tf\n",
    "import numpy as np\n",
    "\n",
    "from neural_networks.tf_model_construction import train_model, test_model"
   ]
  },
  {
   "cell_type": "code",
   "execution_count": 2,
   "metadata": {},
   "outputs": [],
   "source": [
    "binary_class_model_params = {\n",
    "    \"data_path\": \"D:/Datasets/one_step_retrosynth_ai_output/\",  # Input data folder path.\n",
    "    \"fold_ind\": 1,                                              # Index of the current data fold.\n",
    "    \"fp_type\": \"hsfp\",                                          # Which fingerprint dataset to use.\n",
    "    \"oversample\": False,                                        # Usage of SMOTE oversampling.\n",
    "    \"num_layers\": 3,                                            # Total number of layers in the network.\n",
    "    \"random_seed\": 101,                                         # Random seed used for reproducibility purposes.\n",
    "    \"classification_type\": \"binary\",                            # Type of classification problem.\n",
    "\n",
    "    \"input_size\": 1024,                                         # Input layer size.\n",
    "    \"input_activation\": tf.nn.relu,                             # Input layer activation function.\n",
    "    \"input_init\": tf.initializers.glorot_normal(),              # Input layer weight initialization function.\n",
    "    \"input_dropout\": 0.2,                                       # Input layer dropout value.\n",
    "\n",
    "    \"hidden_size\": 1024,                                        # Hidden layer size.\n",
    "    \"hidden_activation\": tf.nn.relu,                            # Hidden layer activation function.\n",
    "    \"hidden_init\": tf.initializers.glorot_normal(),             # Hidden layer weight initialization function.\n",
    "    \"hidden_dropout\": 0.2,                                      # Hidden layer dropout value.\n",
    "\n",
    "    \"output_size\": 1,                                           # Output layer size.\n",
    "    \"output_activation\": tf.nn.sigmoid,                         # Output layer activation function.\n",
    "    \"output_init\": tf.initializers.glorot_normal(),             # Output layer weight initialization function.\n",
    "\n",
    "    \"learning_rate\": 0.001,                                     # Adam optimizer learning rate.\n",
    "\n",
    "    \"max_num_epochs\": 200,                                      # Maximum number of epochs.\n",
    "    \"batch_size\": 32,                                           # Batch size.\n",
    "    \"early_stopping_interval\": 10,                              # Number of epochs for early stopping detection.\n",
    "\n",
    "    # Path to a folder to save the TensorFlow summaries of the trained network.\n",
    "    \"model_log_folder\": \"neural_networks/constructed_models/binary_classification/\",\n",
    "}"
   ]
  },
  {
   "cell_type": "code",
   "execution_count": 3,
   "metadata": {
    "scrolled": true
   },
   "outputs": [
    {
     "name": "stdout",
     "output_type": "stream",
     "text": [
      "INFO:tensorflow:Restoring parameters from neural_networks/constructed_models/binary_classification/fold_1/checkpoints/-40\n",
      "INFO:tensorflow:Restoring parameters from neural_networks/constructed_models/binary_classification/fold_2/checkpoints/-24\n",
      "INFO:tensorflow:Restoring parameters from neural_networks/constructed_models/binary_classification/fold_3/checkpoints/-34\n",
      "INFO:tensorflow:Restoring parameters from neural_networks/constructed_models/binary_classification/fold_4/checkpoints/-10\n",
      "INFO:tensorflow:Restoring parameters from neural_networks/constructed_models/binary_classification/fold_5/checkpoints/-14\n",
      "Average training loss: 0.3980202376842499\n",
      "Average validation loss: 0.39461448788642883\n",
      "Average training loss: 0.39838963747024536\n",
      "Average validation accuracy: 0.9188070297241211\n",
      "Average test loss: 0.9119033813476562\n"
     ]
    }
   ],
   "source": [
    "num_folds = 5\n",
    "avg_tr_loss, avg_val_loss, avg_tst_loss, avg_val_acc, avg_tst_acc = [], [], [], [], []\n",
    "\n",
    "for i in range(1, num_folds+1):\n",
    "    binary_class_model_params[\"fold_ind\"] = i\n",
    "\n",
    "    _, temp_tr_loss, temp_val_loss, temp_val_accuracy = train_model(binary_class_model_params, verbose=False)\n",
    "    test_labels, test_output, temp_tst_loss, temp_tst_accuracy = test_model(binary_class_model_params, verbose=False)\n",
    "    \n",
    "    avg_tr_loss.append(temp_tr_loss)\n",
    "    avg_val_loss.append(temp_val_loss)\n",
    "    avg_tst_loss.append(temp_tst_loss)\n",
    "    avg_val_acc.append(temp_val_accuracy)\n",
    "    avg_tst_acc.append(temp_tst_accuracy)\n",
    "\n",
    "print(\"Average training loss: {}\".format(np.average(avg_tr_loss)))\n",
    "print(\"Average validation loss: {}\".format(np.average(avg_val_loss)))\n",
    "print(\"Average training loss: {}\".format(np.average(avg_tst_loss)))\n",
    "print(\"Average validation accuracy: {}\".format(np.average(avg_val_acc)))\n",
    "print(\"Average test loss: {}\".format(np.average(avg_tst_acc)))"
   ]
  },
  {
   "cell_type": "code",
   "execution_count": null,
   "metadata": {},
   "outputs": [],
   "source": []
  }
 ],
 "metadata": {
  "kernelspec": {
   "display_name": "Python 3",
   "language": "python",
   "name": "python3"
  },
  "language_info": {
   "codemirror_mode": {
    "name": "ipython",
    "version": 3
   },
   "file_extension": ".py",
   "mimetype": "text/x-python",
   "name": "python",
   "nbconvert_exporter": "python",
   "pygments_lexer": "ipython3",
   "version": "3.6.8"
  }
 },
 "nbformat": 4,
 "nbformat_minor": 2
}
