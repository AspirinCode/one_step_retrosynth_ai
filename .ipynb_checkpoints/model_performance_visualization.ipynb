{
 "cells": [
  {
   "cell_type": "code",
   "execution_count": 3,
   "metadata": {},
   "outputs": [],
   "source": [
    "import numpy as np"
   ]
  },
  {
   "cell_type": "code",
   "execution_count": 15,
   "metadata": {},
   "outputs": [
    {
     "name": "stdout",
     "output_type": "stream",
     "text": [
      "[[ 8.66666667 12.66666667 16.66666667]\n",
      " [14.66666667 14.33333333 14.33333333]\n",
      " [17.66666667 13.66666667 13.        ]]\n"
     ]
    }
   ],
   "source": [
    "a = [[1, 2, 3], [4, 1, 1], [7, 7, 7]]\n",
    "b = [[2, 3, 4], [5, 6, 6], [8, 2, 1]]\n",
    "c = [[23, 33, 43], [35, 36, 36], [38, 32, 31]]\n",
    "\n",
    "print(np.mean([a, b, c], axis=0))"
   ]
  },
  {
   "cell_type": "code",
   "execution_count": null,
   "metadata": {},
   "outputs": [],
   "source": []
  }
 ],
 "metadata": {
  "kernelspec": {
   "display_name": "Python 3",
   "language": "python",
   "name": "python3"
  },
  "language_info": {
   "codemirror_mode": {
    "name": "ipython",
    "version": 3
   },
   "file_extension": ".py",
   "mimetype": "text/x-python",
   "name": "python",
   "nbconvert_exporter": "python",
   "pygments_lexer": "ipython3",
   "version": "3.6.8"
  }
 },
 "nbformat": 4,
 "nbformat_minor": 2
}
